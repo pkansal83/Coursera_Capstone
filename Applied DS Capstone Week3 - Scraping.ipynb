{
 "cells": [
  {
   "cell_type": "markdown",
   "metadata": {},
   "source": [
    "# Applied Data Science Capstone - Week 3\n",
    "\n",
    "### Web Scraping Notebook"
   ]
  },
  {
   "cell_type": "code",
   "execution_count": 1,
   "metadata": {},
   "outputs": [],
   "source": [
    "# importing requires libraries\n",
    "import pandas as pd\n",
    "import urllib\n",
    "from bs4 import BeautifulSoup"
   ]
  },
  {
   "cell_type": "code",
   "execution_count": 2,
   "metadata": {},
   "outputs": [],
   "source": [
    "# URL from which data is to be extracted\n",
    "base_url = \"https://en.wikipedia.org/wiki/List_of_postal_codes_of_Canada:_M\""
   ]
  },
  {
   "cell_type": "markdown",
   "metadata": {},
   "source": [
    "### Using BeautifulSoup Library to extract the data from Wikipedia page"
   ]
  },
  {
   "cell_type": "code",
   "execution_count": 3,
   "metadata": {},
   "outputs": [],
   "source": [
    "a = urllib.request.urlopen(base_url)\n",
    "data = BeautifulSoup(a,'lxml')\n",
    "try:\n",
    "    tab = data.find('table','wikitable')\n",
    "except:\n",
    "    print(\"table not found\")\n"
   ]
  },
  {
   "cell_type": "code",
   "execution_count": 4,
   "metadata": {},
   "outputs": [],
   "source": [
    "vals = tab.find('tbody').findAll('tr')"
   ]
  },
  {
   "cell_type": "code",
   "execution_count": 5,
   "metadata": {},
   "outputs": [],
   "source": [
    "data = []\n",
    "for i in vals[1:]:\n",
    "    data.append([j.text.strip() for j in i.findAll('td')])"
   ]
  },
  {
   "cell_type": "code",
   "execution_count": 6,
   "metadata": {},
   "outputs": [],
   "source": [
    "# Creating data frame from extracted data\n",
    "df = pd.DataFrame(data, columns = [\"PostalCode\",\"Borough\",\"Neighborhood\"])"
   ]
  },
  {
   "cell_type": "code",
   "execution_count": 7,
   "metadata": {},
   "outputs": [
    {
     "name": "stdout",
     "output_type": "stream",
     "text": [
      "  PostalCode           Borough               Neighborhood\n",
      "0        M1A      Not assigned               Not assigned\n",
      "1        M2A      Not assigned               Not assigned\n",
      "2        M3A        North York                  Parkwoods\n",
      "3        M4A        North York           Victoria Village\n",
      "4        M5A  Downtown Toronto  Regent Park, Harbourfront\n",
      "(180, 3)\n"
     ]
    }
   ],
   "source": [
    "print(df.head())\n",
    "print(df.shape)"
   ]
  },
  {
   "cell_type": "code",
   "execution_count": 8,
   "metadata": {},
   "outputs": [],
   "source": [
    "# Ignoring rows with Borough as \"Not assigned\"\n",
    "df = df[df.Borough != \"Not assigned\"]"
   ]
  },
  {
   "cell_type": "code",
   "execution_count": 9,
   "metadata": {},
   "outputs": [
    {
     "name": "stdout",
     "output_type": "stream",
     "text": [
      "  PostalCode           Borough                                 Neighborhood\n",
      "2        M3A        North York                                    Parkwoods\n",
      "3        M4A        North York                             Victoria Village\n",
      "4        M5A  Downtown Toronto                    Regent Park, Harbourfront\n",
      "5        M6A        North York             Lawrence Manor, Lawrence Heights\n",
      "6        M7A  Downtown Toronto  Queen's Park, Ontario Provincial Government\n",
      "(103, 3)\n"
     ]
    }
   ],
   "source": [
    "print(df.head())\n",
    "print(df.shape)"
   ]
  },
  {
   "cell_type": "markdown",
   "metadata": {},
   "source": [
    "As mention in the instructions, *More than one neighborhood can exist in one postal code area. For example, in the table on the Wikipedia page, you will notice that M5A is listed twice and has two neighborhoods: Harbourfront and Regent Park. These two rows will be combined into one row with the neighborhoods separated with a comma as shown in row 11 in the above table.*, but that has been already rectified on wikipedia page itself and there are no duplicate PostalCodes now, and corresponding Neighborhood have been written together as comma separated"
   ]
  },
  {
   "cell_type": "markdown",
   "metadata": {},
   "source": [
    "Also, there are no neighborhoods with a borough with a value but Neighborhood as \"Not Assigned\", still have applied a code snippet for the same"
   ]
  },
  {
   "cell_type": "code",
   "execution_count": 10,
   "metadata": {},
   "outputs": [],
   "source": [
    "df.Neighborhood[df.Neighborhood == \"Not assigned\"] = df.Borough[df.Neighborhood == \"Not assigned\"]"
   ]
  },
  {
   "cell_type": "code",
   "execution_count": 11,
   "metadata": {},
   "outputs": [
    {
     "name": "stdout",
     "output_type": "stream",
     "text": [
      "Final table has 103 rows and 3 columns\n"
     ]
    }
   ],
   "source": [
    "# Getting the shape of final dataframe obtained\n",
    "print(\"Final table has %d rows and %d columns\" %(df.shape))"
   ]
  },
  {
   "cell_type": "code",
   "execution_count": 12,
   "metadata": {},
   "outputs": [],
   "source": [
    "# Writing the file to system\n",
    "# df.to_csv(\"toronto_neighbor.csv\", index=False)"
   ]
  },
  {
   "cell_type": "code",
   "execution_count": null,
   "metadata": {},
   "outputs": [],
   "source": []
  }
 ],
 "metadata": {
  "kernelspec": {
   "display_name": "Python 3",
   "language": "python",
   "name": "python3"
  },
  "language_info": {
   "codemirror_mode": {
    "name": "ipython",
    "version": 3
   },
   "file_extension": ".py",
   "mimetype": "text/x-python",
   "name": "python",
   "nbconvert_exporter": "python",
   "pygments_lexer": "ipython3",
   "version": "3.7.7"
  }
 },
 "nbformat": 4,
 "nbformat_minor": 4
}
